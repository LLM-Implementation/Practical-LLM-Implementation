{
  "cells": [
    {
      "cell_type": "markdown",
      "metadata": {
        "id": "M_Gdl5iUcrRz"
      },
      "source": [
        "# Install Vertex AI SDK\n",
        "Install the `google-cloud-aiplatform` package with the necessary extras for ADK and Agent Engines using pip."
      ]
    },
    {
      "cell_type": "code",
      "execution_count": 1,
      "metadata": {
        "id": "FqSh7ffrcrR0",
        "colab": {
          "base_uri": "https://localhost:8080/"
        },
        "outputId": "1a1f4e00-8ac7-4c47-f862-6a5258329239"
      },
      "outputs": [
        {
          "output_type": "stream",
          "name": "stdout",
          "text": [
            "\u001b[?25l   \u001b[90m━━━━━━━━━━━━━━━━━━━━━━━━━━━━━━━━━━━━━━━━\u001b[0m \u001b[32m0.0/1.2 MB\u001b[0m \u001b[31m?\u001b[0m eta \u001b[36m-:--:--\u001b[0m\r\u001b[2K   \u001b[91m━━━━━━━━━━━━━━━━━━━━━━━━━\u001b[0m\u001b[91m╸\u001b[0m\u001b[90m━━━━━━━━━━━━━━\u001b[0m \u001b[32m0.8/1.2 MB\u001b[0m \u001b[31m21.7 MB/s\u001b[0m eta \u001b[36m0:00:01\u001b[0m\r\u001b[2K   \u001b[91m━━━━━━━━━━━━━━━━━━━━━━━━━━━━━━━━━━━━━━━\u001b[0m\u001b[91m╸\u001b[0m \u001b[32m1.2/1.2 MB\u001b[0m \u001b[31m26.5 MB/s\u001b[0m eta \u001b[36m0:00:01\u001b[0m\r\u001b[2K   \u001b[90m━━━━━━━━━━━━━━━━━━━━━━━━━━━━━━━━━━━━━━━━\u001b[0m \u001b[32m1.2/1.2 MB\u001b[0m \u001b[31m13.6 MB/s\u001b[0m eta \u001b[36m0:00:00\u001b[0m\n",
            "\u001b[2K   \u001b[90m━━━━━━━━━━━━━━━━━━━━━━━━━━━━━━━━━━━━━━━━\u001b[0m \u001b[32m229.5/229.5 kB\u001b[0m \u001b[31m10.2 MB/s\u001b[0m eta \u001b[36m0:00:00\u001b[0m\n",
            "\u001b[2K   \u001b[90m━━━━━━━━━━━━━━━━━━━━━━━━━━━━━━━━━━━━━━━━\u001b[0m \u001b[32m103.3/103.3 kB\u001b[0m \u001b[31m3.7 MB/s\u001b[0m eta \u001b[36m0:00:00\u001b[0m\n",
            "\u001b[2K   \u001b[90m━━━━━━━━━━━━━━━━━━━━━━━━━━━━━━━━━━━━━━━━\u001b[0m \u001b[32m232.1/232.1 kB\u001b[0m \u001b[31m5.1 MB/s\u001b[0m eta \u001b[36m0:00:00\u001b[0m\n",
            "\u001b[2K   \u001b[90m━━━━━━━━━━━━━━━━━━━━━━━━━━━━━━━━━━━━━━━━\u001b[0m \u001b[32m95.2/95.2 kB\u001b[0m \u001b[31m5.8 MB/s\u001b[0m eta \u001b[36m0:00:00\u001b[0m\n",
            "\u001b[2K   \u001b[90m━━━━━━━━━━━━━━━━━━━━━━━━━━━━━━━━━━━━━━━━\u001b[0m \u001b[32m217.1/217.1 kB\u001b[0m \u001b[31m5.9 MB/s\u001b[0m eta \u001b[36m0:00:00\u001b[0m\n",
            "\u001b[2K   \u001b[90m━━━━━━━━━━━━━━━━━━━━━━━━━━━━━━━━━━━━━━━━\u001b[0m \u001b[32m334.1/334.1 kB\u001b[0m \u001b[31m12.2 MB/s\u001b[0m eta \u001b[36m0:00:00\u001b[0m\n",
            "\u001b[2K   \u001b[90m━━━━━━━━━━━━━━━━━━━━━━━━━━━━━━━━━━━━━━━━\u001b[0m \u001b[32m76.1/76.1 kB\u001b[0m \u001b[31m3.5 MB/s\u001b[0m eta \u001b[36m0:00:00\u001b[0m\n",
            "\u001b[2K   \u001b[90m━━━━━━━━━━━━━━━━━━━━━━━━━━━━━━━━━━━━━━━━\u001b[0m \u001b[32m62.5/62.5 kB\u001b[0m \u001b[31m3.0 MB/s\u001b[0m eta \u001b[36m0:00:00\u001b[0m\n",
            "\u001b[2K   \u001b[90m━━━━━━━━━━━━━━━━━━━━━━━━━━━━━━━━━━━━━━━━\u001b[0m \u001b[32m44.4/44.4 kB\u001b[0m \u001b[31m1.2 MB/s\u001b[0m eta \u001b[36m0:00:00\u001b[0m\n",
            "\u001b[2K   \u001b[90m━━━━━━━━━━━━━━━━━━━━━━━━━━━━━━━━━━━━━━━━\u001b[0m \u001b[32m72.0/72.0 kB\u001b[0m \u001b[31m3.9 MB/s\u001b[0m eta \u001b[36m0:00:00\u001b[0m\n",
            "\u001b[?25h"
          ]
        }
      ],
      "source": [
        "# Install the google-cloud-aiplatform package with the necessary extras for ADK and Agent Engines\n",
        "!pip install --upgrade --quiet google-cloud-aiplatform[agent_engines,adk]"
      ]
    },
    {
      "cell_type": "markdown",
      "metadata": {
        "id": "whIgVR3ecrR1"
      },
      "source": [
        "# Authenticate (Colab Only)\n",
        "Authenticate the user in the Colab environment using `google.colab.auth`."
      ]
    },
    {
      "cell_type": "code",
      "execution_count": 2,
      "metadata": {
        "id": "bn-v8XJccrR1"
      },
      "outputs": [],
      "source": [
        "from google.colab import auth\n",
        "\n",
        "# Authenticate the user in the Colab environment\n",
        "auth.authenticate_user()"
      ]
    },
    {
      "cell_type": "markdown",
      "metadata": {
        "id": "clqkaV6gcrR2"
      },
      "source": [
        "# Initialize Vertex AI SDK\n",
        "Import `vertexai` and initialize it with the Google Cloud Project ID, location, and staging GCS bucket."
      ]
    },
    {
      "cell_type": "code",
      "execution_count": 3,
      "metadata": {
        "id": "COvnafmzcrR2"
      },
      "outputs": [],
      "source": [
        "# Import the Vertex AI SDK and initialize it with project-specific details\n",
        "import vertexai\n",
        "\n",
        "# Set your Google Cloud Project ID, location, and staging GCS bucket\n",
        "PROJECT_ID = \"adk-agent-458318\"  # Replace with your Google Cloud Project ID\n",
        "LOCATION = \"us-central1\"         # Replace with your desired region\n",
        "STAGING_BUCKET = \"gs://search-agent-adk\"  # Replace with your GCS staging bucket\n",
        "\n",
        "# Initialize the Vertex AI SDK\n",
        "vertexai.init(\n",
        "    project=PROJECT_ID,\n",
        "    location=LOCATION,\n",
        "    staging_bucket=STAGING_BUCKET,\n",
        ")"
      ]
    },
    {
      "cell_type": "markdown",
      "metadata": {
        "id": "wBGFzQLjcrR2"
      },
      "source": [
        "# Define the Agent using ADK\n",
        "Import `Agent` from `google.adk.agents` and `google_search` from `google.adk.tools`. Define the agent's name, model, description, instruction, and tools (using Google Search)."
      ]
    },
    {
      "cell_type": "code",
      "execution_count": 4,
      "metadata": {
        "id": "j-mZIneScrR2"
      },
      "outputs": [],
      "source": [
        "from google.adk.agents import Agent\n",
        "from google.adk.tools import google_search\n",
        "\n",
        "# Define the agent using ADK\n",
        "root_agent = Agent(\n",
        "    name=\"basic_search_agent\",  # A name for your agent\n",
        "    model=\"gemini-2.5-flash-preview-04-17\",  # Specify the model version\n",
        "    description=\"Agent to answer questions using Google Search.\",  # Brief description of the agent\n",
        "    instruction=\"I can answer your questions by searching the internet. Just ask me anything!\",  # Instructions for the agent\n",
        "    tools=[google_search],  # Use the pre-built Google Search tool\n",
        "    output_key=\"google_search\"  # Key where the search result will be stored\n",
        ")"
      ]
    },
    {
      "cell_type": "markdown",
      "metadata": {
        "id": "ORG92rjPcrR2"
      },
      "source": [
        "# Prepare Agent for Deployment (AdkApp)\n",
        "Import `reasoning_engines` from `vertexai.preview`. Wrap the defined agent using `reasoning_engines.AdkApp` to make it deployable, enabling tracing."
      ]
    },
    {
      "cell_type": "code",
      "execution_count": 5,
      "metadata": {
        "id": "QtOBmtb7crR2"
      },
      "outputs": [],
      "source": [
        "from vertexai.preview import reasoning_engines\n",
        "\n",
        "# Wrap the defined agent using AdkApp to make it deployable\n",
        "app = reasoning_engines.AdkApp(\n",
        "    agent=root_agent,  # Pass the defined agent\n",
        "    enable_tracing=True  # Enable tracing for better observability\n",
        ")"
      ]
    },
    {
      "cell_type": "markdown",
      "metadata": {
        "id": "aLtVGvrjcrR2"
      },
      "source": [
        "# Create a Local Test Session\n",
        "Use the `app.create_session()` method to create a local session for testing, specifying a `user_id`."
      ]
    },
    {
      "cell_type": "code",
      "execution_count": 6,
      "metadata": {
        "id": "Qbx5h5oVcrR2",
        "colab": {
          "base_uri": "https://localhost:8080/"
        },
        "outputId": "097cc7f4-1d47-45e6-fede-11b233360f63"
      },
      "outputs": [
        {
          "output_type": "execute_result",
          "data": {
            "text/plain": [
              "Session(id='77bc4d32-acc7-49ca-831b-b8a06b90545e', app_name='default-app-name', user_id='test_user_001', state={}, events=[], last_update_time=1745963977.1502888)"
            ]
          },
          "metadata": {},
          "execution_count": 6
        }
      ],
      "source": [
        "# Create a local session for testing\n",
        "session = app.create_session(user_id=\"test_user_001\")  # Replace with your desired user ID\n",
        "\n",
        "# Display the created session details\n",
        "session"
      ]
    },
    {
      "cell_type": "markdown",
      "metadata": {
        "id": "9VBFH8mOcrR3"
      },
      "source": [
        "# List Local Test Sessions\n",
        "Use the `app.list_sessions()` method to list active local sessions for a given `user_id`."
      ]
    },
    {
      "cell_type": "code",
      "execution_count": 7,
      "metadata": {
        "id": "_Xg7H_3XcrR3",
        "colab": {
          "base_uri": "https://localhost:8080/"
        },
        "outputId": "e10deaa5-a075-47e5-d968-709c321e67c8"
      },
      "outputs": [
        {
          "output_type": "execute_result",
          "data": {
            "text/plain": [
              "ListSessionsResponse(sessions=[Session(id='77bc4d32-acc7-49ca-831b-b8a06b90545e', app_name='default-app-name', user_id='test_user_001', state={}, events=[], last_update_time=1745963977.1502888)])"
            ]
          },
          "metadata": {},
          "execution_count": 7
        }
      ],
      "source": [
        "# List active local sessions for the given user_id\n",
        "active_sessions = app.list_sessions(user_id=\"test_user_001\")  # Replace with the same user ID used earlier\n",
        "\n",
        "# Display the list of active sessions\n",
        "active_sessions"
      ]
    },
    {
      "cell_type": "markdown",
      "metadata": {
        "id": "UMdIkvO0crR3"
      },
      "source": [
        "# Get a Specific Local Test Session\n",
        "Use the `app.get_session()` method to retrieve details of a specific local session using its `session_id` and `user_id`."
      ]
    },
    {
      "cell_type": "code",
      "execution_count": 8,
      "metadata": {
        "id": "HmhfXWkncrR3",
        "colab": {
          "base_uri": "https://localhost:8080/"
        },
        "outputId": "04a41d34-f806-43b5-bff7-db7a6554062f"
      },
      "outputs": [
        {
          "output_type": "execute_result",
          "data": {
            "text/plain": [
              "Session(id='77bc4d32-acc7-49ca-831b-b8a06b90545e', app_name='default-app-name', user_id='test_user_001', state={}, events=[], last_update_time=1745963977.1502888)"
            ]
          },
          "metadata": {},
          "execution_count": 8
        }
      ],
      "source": [
        "# Retrieve details of a specific local session using its session_id and user_id\n",
        "specific_session = app.get_session(user_id=\"test_user_001\", session_id=session.id)\n",
        "\n",
        "# Display the details of the retrieved session\n",
        "specific_session"
      ]
    },
    {
      "cell_type": "markdown",
      "metadata": {
        "id": "75aoCcZpcrR3"
      },
      "source": [
        "# Send Query to Local Agent\n",
        "Use the `app.stream_query()` method with the local `session_id` and `user_id` to send a message and receive the agent's response locally."
      ]
    },
    {
      "cell_type": "code",
      "execution_count": 9,
      "metadata": {
        "id": "ARboB_licrR3",
        "colab": {
          "base_uri": "https://localhost:8080/"
        },
        "outputId": "661e426e-3f4e-4038-91df-1be49abd4cc9"
      },
      "outputs": [
        {
          "output_type": "stream",
          "name": "stdout",
          "text": [
            "{'content': {'parts': [{'text': 'The weather in New York is currently 78°F (26°C) and feels like 78°F (25°C) with 37% humidity and a 0% chance of rain. It is cloudy [9]. The wind is from the southwest at 11 to 16 mph, with gusts up to 30 mph [6, 11]. Visibility is 10 miles [3, 12].\\n\\nThe forecast for today in New York includes mostly sunny skies with a high near 81°F. Tonight, there is a 20% chance of showers after 11 PM, with mostly cloudy conditions and a low around 54°F [6]. The wind will be from the southwest at 10 to 15 mph, shifting to the west-southwest at 10 to 15 mph tonight [12, 6].\\n\\nTomorrow (Wednesday, April 30th), the forecast is mostly sunny with a high near 74°F. Wednesday night will be mostly clear with a low around 52°F [6].'}], 'role': 'model'}, 'grounding_metadata': {'grounding_chunks': [{'web': {'domain': 'google.com', 'title': 'Weather information for locality: New York, administrative_area: NY', 'uri': 'https://www.google.com/search?q=weather+in+New York,+NY'}}, {'web': {'domain': 'wunderground.com', 'title': 'wunderground.com', 'uri': 'https://vertexaisearch.cloud.google.com/grounding-api-redirect/AWQVqAIfp9hbKwaSEkrs36u43KzQ3QcixUFcS0IPyw8eL4qJxJMIpktMihvdE_UsQKeMwFSCsBDZqR8F0BjkcX0UwEaNRo4VC7UaIxXqywKGY9LeUDlzQfvTcr4D7oUgRFCqAIYQR96d8dgXtCPGM5w7ShNPZkcA'}}, {'web': {'domain': 'timeanddate.com', 'title': 'timeanddate.com', 'uri': 'https://vertexaisearch.cloud.google.com/grounding-api-redirect/AWQVqALtSiQmo2ad71mHWVkvZgnue9aVTzgslNubEFeLSjCIJ4aD3xR07qwYhBNeBE8pg2X5Uvy5dKG60qzFj7fZfP7GSvZ33fxF9qMRcJNR_AwZ2YGrMXJ4UFFFa21S5WN8ZjksjTpIg8I_fVoG8776ox4='}}, {'web': {'domain': 'timeanddate.com', 'title': 'timeanddate.com', 'uri': 'https://vertexaisearch.cloud.google.com/grounding-api-redirect/AWQVqALr0d3xSexLVVTsJVzaVaiP8ydE4dadDY_P7G5bgDHqL5AUec1hNRk1sXo48PsfH_ic6DKqsLt1GzqMD0Zjn0zUndXwWZbRV0J9qHkDw_TUtV-5TpSd4yqG7sM8upr2F_hsmy4K28R5iGTgHg=='}}, {'web': {'domain': 'accuweather.com', 'title': 'accuweather.com', 'uri': 'https://vertexaisearch.cloud.google.com/grounding-api-redirect/AWQVqAKtQ2AMnxqaBgNBEGtrWb_mJyktEHNBeebn5ApSYtnIjzoP18HmWhfMNLHPGqXbEb-BTK7QCfs3IN56vHuCYAg34M4_R5dT_jWHSFY1PhCJBbVHNWgDRB_Axxo-Louekbu-djP--liaUQtevC7xsweSmXlrNfz1bk39dEuhPSE2ZPxp'}}], 'grounding_supports': [{'confidence_scores': [0.87414825], 'grounding_chunk_indices': [0], 'segment': {'end_index': 122, 'text': 'The weather in New York is currently 78°F (26°C) and feels like 78°F (25°C) with 37% humidity and a 0% chance of rain.'}}, {'confidence_scores': [0.9264081, 0.69070137, 0.88206744, 0.8709318], 'grounding_chunk_indices': [0, 1, 2, 3], 'segment': {'end_index': 140, 'start_index': 123, 'text': 'It is cloudy [9].'}}, {'confidence_scores': [0.83221483], 'grounding_chunk_indices': [4], 'segment': {'end_index': 221, 'start_index': 141, 'text': 'The wind is from the southwest at 11 to 16 mph, with gusts up to 30 mph [6, 11].'}}, {'confidence_scores': [0.9079903, 0.99286836, 0.98967546], 'grounding_chunk_indices': [1, 4, 3], 'segment': {'end_index': 253, 'start_index': 222, 'text': 'Visibility is 10 miles [3, 12].'}}], 'retrieval_metadata': {}, 'search_entry_point': {'rendered_content': '<style>\\n.container {\\n  align-items: center;\\n  border-radius: 8px;\\n  display: flex;\\n  font-family: Google Sans, Roboto, sans-serif;\\n  font-size: 14px;\\n  line-height: 20px;\\n  padding: 8px 12px;\\n}\\n.chip {\\n  display: inline-block;\\n  border: solid 1px;\\n  border-radius: 16px;\\n  min-width: 14px;\\n  padding: 5px 16px;\\n  text-align: center;\\n  user-select: none;\\n  margin: 0 8px;\\n  -webkit-tap-highlight-color: transparent;\\n}\\n.carousel {\\n  overflow: auto;\\n  scrollbar-width: none;\\n  white-space: nowrap;\\n  margin-right: -12px;\\n}\\n.headline {\\n  display: flex;\\n  margin-right: 4px;\\n}\\n.gradient-container {\\n  position: relative;\\n}\\n.gradient {\\n  position: absolute;\\n  transform: translate(3px, -9px);\\n  height: 36px;\\n  width: 9px;\\n}\\n@media (prefers-color-scheme: light) {\\n  .container {\\n    background-color: #fafafa;\\n    box-shadow: 0 0 0 1px #0000000f;\\n  }\\n  .headline-label {\\n    color: #1f1f1f;\\n  }\\n  .chip {\\n    background-color: #ffffff;\\n    border-color: #d2d2d2;\\n    color: #5e5e5e;\\n    text-decoration: none;\\n  }\\n  .chip:hover {\\n    background-color: #f2f2f2;\\n  }\\n  .chip:focus {\\n    background-color: #f2f2f2;\\n  }\\n  .chip:active {\\n    background-color: #d8d8d8;\\n    border-color: #b6b6b6;\\n  }\\n  .logo-dark {\\n    display: none;\\n  }\\n  .gradient {\\n    background: linear-gradient(90deg, #fafafa 15%, #fafafa00 100%);\\n  }\\n}\\n@media (prefers-color-scheme: dark) {\\n  .container {\\n    background-color: #1f1f1f;\\n    box-shadow: 0 0 0 1px #ffffff26;\\n  }\\n  .headline-label {\\n    color: #fff;\\n  }\\n  .chip {\\n    background-color: #2c2c2c;\\n    border-color: #3c4043;\\n    color: #fff;\\n    text-decoration: none;\\n  }\\n  .chip:hover {\\n    background-color: #353536;\\n  }\\n  .chip:focus {\\n    background-color: #353536;\\n  }\\n  .chip:active {\\n    background-color: #464849;\\n    border-color: #53575b;\\n  }\\n  .logo-light {\\n    display: none;\\n  }\\n  .gradient {\\n    background: linear-gradient(90deg, #1f1f1f 15%, #1f1f1f00 100%);\\n  }\\n}\\n</style>\\n<div class=\"container\">\\n  <div class=\"headline\">\\n    <svg class=\"logo-light\" width=\"18\" height=\"18\" viewBox=\"9 9 35 35\" fill=\"none\" xmlns=\"http://www.w3.org/2000/svg\">\\n      <path fill-rule=\"evenodd\" clip-rule=\"evenodd\" d=\"M42.8622 27.0064C42.8622 25.7839 42.7525 24.6084 42.5487 23.4799H26.3109V30.1568H35.5897C35.1821 32.3041 33.9596 34.1222 32.1258 35.3448V39.6864H37.7213C40.9814 36.677 42.8622 32.2571 42.8622 27.0064V27.0064Z\" fill=\"#4285F4\"/>\\n      <path fill-rule=\"evenodd\" clip-rule=\"evenodd\" d=\"M26.3109 43.8555C30.9659 43.8555 34.8687 42.3195 37.7213 39.6863L32.1258 35.3447C30.5898 36.3792 28.6306 37.0061 26.3109 37.0061C21.8282 37.0061 18.0195 33.9811 16.6559 29.906H10.9194V34.3573C13.7563 39.9841 19.5712 43.8555 26.3109 43.8555V43.8555Z\" fill=\"#34A853\"/>\\n      <path fill-rule=\"evenodd\" clip-rule=\"evenodd\" d=\"M16.6559 29.8904C16.3111 28.8559 16.1074 27.7588 16.1074 26.6146C16.1074 25.4704 16.3111 24.3733 16.6559 23.3388V18.8875H10.9194C9.74388 21.2072 9.06992 23.8247 9.06992 26.6146C9.06992 29.4045 9.74388 32.022 10.9194 34.3417L15.3864 30.8621L16.6559 29.8904V29.8904Z\" fill=\"#FBBC05\"/>\\n      <path fill-rule=\"evenodd\" clip-rule=\"evenodd\" d=\"M26.3109 16.2386C28.85 16.2386 31.107 17.1164 32.9095 18.8091L37.8466 13.8719C34.853 11.082 30.9659 9.3736 26.3109 9.3736C19.5712 9.3736 13.7563 13.245 10.9194 18.8875L16.6559 23.3388C18.0195 19.2636 21.8282 16.2386 26.3109 16.2386V16.2386Z\" fill=\"#EA4335\"/>\\n    </svg>\\n    <svg class=\"logo-dark\" width=\"18\" height=\"18\" viewBox=\"0 0 48 48\" xmlns=\"http://www.w3.org/2000/svg\">\\n      <circle cx=\"24\" cy=\"23\" fill=\"#FFF\" r=\"22\"/>\\n      <path d=\"M33.76 34.26c2.75-2.56 4.49-6.37 4.49-11.26 0-.89-.08-1.84-.29-3H24.01v5.99h8.03c-.4 2.02-1.5 3.56-3.07 4.56v.75l3.91 2.97h.88z\" fill=\"#4285F4\"/>\\n      <path d=\"M15.58 25.77A8.845 8.845 0 0 0 24 31.86c1.92 0 3.62-.46 4.97-1.31l4.79 3.71C31.14 36.7 27.65 38 24 38c-5.93 0-11.01-3.4-13.45-8.36l.17-1.01 4.06-2.85h.8z\" fill=\"#34A853\"/>\\n      <path d=\"M15.59 20.21a8.864 8.864 0 0 0 0 5.58l-5.03 3.86c-.98-2-1.53-4.25-1.53-6.64 0-2.39.55-4.64 1.53-6.64l1-.22 3.81 2.98.22 1.08z\" fill=\"#FBBC05\"/>\\n      <path d=\"M24 14.14c2.11 0 4.02.75 5.52 1.98l4.36-4.36C31.22 9.43 27.81 8 24 8c-5.93 0-11.01 3.4-13.45 8.36l5.03 3.85A8.86 8.86 0 0 1 24 14.14z\" fill=\"#EA4335\"/>\\n    </svg>\\n    <div class=\"gradient-container\"><div class=\"gradient\"></div></div>\\n  </div>\\n  <div class=\"carousel\">\\n    <a class=\"chip\" href=\"https://vertexaisearch.cloud.google.com/grounding-api-redirect/AWQVqAL-9hBXvqkQWqaAbrNaYCjTwr76ENjXgjZtRvFoXQVzF8ls_viaBYzUjR0KyY0ZI5YvD5sVgPJ7FgC9Zda2cagKJOyvPWPfjLv3a_h449Atk35cxDv5HhExCkFn__QW1m7Le1XrXW4rpSu6UvtI1kMXzsWY2_PTMTB5X8n_MQBD0QNNAuDEhgKpGaTOP3FOCJo1qPkZGW2tcJ02dSxefjc=\">current temperature New York</a>\\n    <a class=\"chip\" href=\"https://vertexaisearch.cloud.google.com/grounding-api-redirect/AWQVqAJnRTG2dEv3zrQ8aYpWVJlvon3dVOYnBbItziGBbz51sDkOc2KVbpfFxeJWyEcTKSUa9on2IFPi4sIzk2K7G9WciKGeH5jKaPHgg_MXgUqpCAawnGRZY4-o1wTbmZLz2p-rhzMR7kb2Bj3WijLdcKSe-jfRBCb2pniSDfK07g2oDBMzQI3K2CZeGrsioMM9tG-KTpGJ_N0=\">weather in New York</a>\\n  </div>\\n</div>\\n'}, 'web_search_queries': ['current temperature New York', 'weather in New York']}, 'invocation_id': 'e-ad401a53-b072-4880-ba20-9f6ed5dcb596', 'author': 'basic_search_agent', 'actions': {'state_delta': {'google_search': 'The weather in New York is currently 78°F (26°C) and feels like 78°F (25°C) with 37% humidity and a 0% chance of rain. It is cloudy [9]. The wind is from the southwest at 11 to 16 mph, with gusts up to 30 mph [6, 11]. Visibility is 10 miles [3, 12].\\n\\nThe forecast for today in New York includes mostly sunny skies with a high near 81°F. Tonight, there is a 20% chance of showers after 11 PM, with mostly cloudy conditions and a low around 54°F [6]. The wind will be from the southwest at 10 to 15 mph, shifting to the west-southwest at 10 to 15 mph tonight [12, 6].\\n\\nTomorrow (Wednesday, April 30th), the forecast is mostly sunny with a high near 74°F. Wednesday night will be mostly clear with a low around 52°F [6].'}, 'artifact_delta': {}, 'requested_auth_configs': {}}, 'id': 'JoaO5LTF', 'timestamp': 1745964068.328173}\n"
          ]
        }
      ],
      "source": [
        "# Send a query to the local agent using the session_id and user_id\n",
        "for event in app.stream_query(\n",
        "    user_id=\"test_user_001\",  # Replace with the same user ID used earlier\n",
        "    session_id=session.id,  # Use the session ID from the created session\n",
        "    message=\"What is the weather in New York?\",  # Replace with your desired query\n",
        "):\n",
        "    print(event)  # Print each event received from the agent's response"
      ]
    },
    {
      "cell_type": "markdown",
      "metadata": {
        "id": "dq7YfoKscrR3"
      },
      "source": [
        "# Deploy Agent to Agent Engine\n",
        "Import `agent_engines` from `vertexai`. Use `agent_engines.create()` to deploy the `AdkApp` instance, specifying the agent object and any necessary requirements. Store the returned remote app object."
      ]
    },
    {
      "cell_type": "code",
      "execution_count": 10,
      "metadata": {
        "id": "zlrPFx-PcrR3",
        "colab": {
          "base_uri": "https://localhost:8080/"
        },
        "outputId": "e26e1d97-aeb3-4ebd-96ce-16d51d39acf3"
      },
      "outputs": [
        {
          "output_type": "stream",
          "name": "stderr",
          "text": [
            "INFO:vertexai.agent_engines:Identified the following requirements: {'pydantic': '2.11.3', 'cloudpickle': '3.1.1', 'google-cloud-aiplatform': '1.90.0'}\n",
            "WARNING:vertexai.agent_engines:The following requirements are missing: {'pydantic', 'cloudpickle'}\n",
            "INFO:vertexai.agent_engines:The following requirements are appended: {'cloudpickle==3.1.1', 'pydantic==2.11.3'}\n",
            "INFO:vertexai.agent_engines:The final list of requirements: ['google-cloud-aiplatform[adk,agent_engines]', 'cloudpickle==3.1.1', 'pydantic==2.11.3']\n",
            "INFO:vertexai.agent_engines:Using bucket search-agent-adk\n",
            "INFO:vertexai.agent_engines:Wrote to gs://search-agent-adk/agent_engine/agent_engine.pkl\n",
            "INFO:vertexai.agent_engines:Writing to gs://search-agent-adk/agent_engine/requirements.txt\n",
            "INFO:vertexai.agent_engines:Creating in-memory tarfile of extra_packages\n",
            "INFO:vertexai.agent_engines:Writing to gs://search-agent-adk/agent_engine/dependencies.tar.gz\n",
            "INFO:vertexai.agent_engines:Creating AgentEngine\n",
            "INFO:vertexai.agent_engines:Create AgentEngine backing LRO: projects/1022232769267/locations/us-central1/reasoningEngines/1239694962270928896/operations/5360323247894167552\n",
            "INFO:vertexai.agent_engines:View progress and logs at https://console.cloud.google.com/logs/query?project=adk-agent-458318\n",
            "INFO:vertexai.agent_engines:AgentEngine created. Resource name: projects/1022232769267/locations/us-central1/reasoningEngines/1239694962270928896\n",
            "INFO:vertexai.agent_engines:To use this AgentEngine in another session:\n",
            "INFO:vertexai.agent_engines:agent_engine = vertexai.agent_engines.get('projects/1022232769267/locations/us-central1/reasoningEngines/1239694962270928896')\n"
          ]
        },
        {
          "output_type": "stream",
          "name": "stdout",
          "text": [
            "Deployed Agent Engine resource name: projects/1022232769267/locations/us-central1/reasoningEngines/1239694962270928896\n"
          ]
        }
      ],
      "source": [
        "from vertexai import agent_engines\n",
        "\n",
        "# Deploy the agent to the managed Agent Engine service\n",
        "remote_app = agent_engines.create(\n",
        "    agent_engine=app,  # Pass the AdkApp instance\n",
        "    requirements=[\n",
        "        \"google-cloud-aiplatform[adk,agent_engines]\"  # Specify core dependencies\n",
        "    ]\n",
        ")\n",
        "\n",
        "# Display the resource name of the deployed Agent Engine\n",
        "print(f\"Deployed Agent Engine resource name: {remote_app.resource_name}\")"
      ]
    },
    {
      "cell_type": "markdown",
      "metadata": {
        "id": "833X5hrhcrR3"
      },
      "source": [
        "# Create a Remote Session on Deployed Agent\n",
        "Use the `remote_app.create_session()` method to create a session on the deployed Agent Engine, specifying a `user_id`."
      ]
    },
    {
      "cell_type": "code",
      "execution_count": 11,
      "metadata": {
        "id": "5pQRwZOYcrR5",
        "colab": {
          "base_uri": "https://localhost:8080/"
        },
        "outputId": "97234c85-9d6e-4f4b-e11b-42ba1bd6a9bc"
      },
      "outputs": [
        {
          "output_type": "execute_result",
          "data": {
            "text/plain": [
              "{'events': [],\n",
              " 'user_id': 'remote_user_001',\n",
              " 'state': {},\n",
              " 'id': '3348756726194110464',\n",
              " 'app_name': '1239694962270928896',\n",
              " 'last_update_time': 1745964558.760493}"
            ]
          },
          "metadata": {},
          "execution_count": 11
        }
      ],
      "source": [
        "# Create a Remote Session on the Deployed Agent\n",
        "remote_session = remote_app.create_session(user_id=\"remote_user_001\")  # Replace with your desired user ID\n",
        "\n",
        "# Display the created remote session details\n",
        "remote_session"
      ]
    },
    {
      "cell_type": "markdown",
      "metadata": {
        "id": "7-BtyAcGcrR5"
      },
      "source": [
        "# List Remote Sessions\n",
        "Use the `remote_app.list_sessions()` method to list active sessions on the deployed Agent Engine for a given `user_id`."
      ]
    },
    {
      "cell_type": "code",
      "execution_count": 12,
      "metadata": {
        "id": "AY0bIw_kcrR5",
        "colab": {
          "base_uri": "https://localhost:8080/"
        },
        "outputId": "166d2f42-7142-4bd4-8a36-7cf5e06bda3f"
      },
      "outputs": [
        {
          "output_type": "execute_result",
          "data": {
            "text/plain": [
              "{'sessions': [{'events': [],\n",
              "   'last_update_time': 1745964558.760493,\n",
              "   'state': {},\n",
              "   'id': '3348756726194110464',\n",
              "   'app_name': '1239694962270928896',\n",
              "   'user_id': 'remote_user_001'}]}"
            ]
          },
          "metadata": {},
          "execution_count": 12
        }
      ],
      "source": [
        "# List active remote sessions for the given user_id\n",
        "remote_active_sessions = remote_app.list_sessions(user_id=\"remote_user_001\")  # Replace with the same user ID used earlier\n",
        "\n",
        "# Display the list of active remote sessions\n",
        "remote_active_sessions"
      ]
    },
    {
      "cell_type": "markdown",
      "metadata": {
        "id": "y-45NYIycrR5"
      },
      "source": [
        "# Get a Specific Remote Session\n",
        "Use the `remote_app.get_session()` method to retrieve details of a specific remote session using its `session_id` and `user_id`."
      ]
    },
    {
      "cell_type": "code",
      "execution_count": 13,
      "metadata": {
        "id": "kYdi7zjdcrR5",
        "colab": {
          "base_uri": "https://localhost:8080/"
        },
        "outputId": "6c0f0c9d-f7db-4d13-8ba0-6fc7d5baaa50"
      },
      "outputs": [
        {
          "output_type": "execute_result",
          "data": {
            "text/plain": [
              "{'events': [],\n",
              " 'last_update_time': 1745964558.760493,\n",
              " 'state': {},\n",
              " 'id': '3348756726194110464',\n",
              " 'app_name': '1239694962270928896',\n",
              " 'user_id': 'remote_user_001'}"
            ]
          },
          "metadata": {},
          "execution_count": 13
        }
      ],
      "source": [
        "# Retrieve details of a specific remote session using its session_id and user_id\n",
        "specific_remote_session = remote_app.get_session(\n",
        "    user_id=\"remote_user_001\",  # Replace with the same user ID used earlier\n",
        "    session_id=remote_session[\"id\"],  # Use the session ID from the created remote session\n",
        ")\n",
        "\n",
        "# Display the details of the retrieved remote session\n",
        "specific_remote_session"
      ]
    },
    {
      "cell_type": "markdown",
      "metadata": {
        "id": "rmQMsl2GcrR5"
      },
      "source": [
        "# Send Query to Deployed Agent\n",
        "Use the `remote_app.stream_query()` method with the remote `session_id` and `user_id` to interact with the deployed agent."
      ]
    },
    {
      "cell_type": "code",
      "execution_count": 14,
      "metadata": {
        "id": "aj5-rPpucrR5",
        "colab": {
          "base_uri": "https://localhost:8080/"
        },
        "outputId": "cdabaa6e-2796-4af1-a665-97b423ff5a41"
      },
      "outputs": [
        {
          "output_type": "stream",
          "name": "stdout",
          "text": [
            "{'content': {'parts': [{'text': 'As of Tuesday, April 29, 2025 at 10:10:07 PM UTC, the time in New York, New York, USA is 6:10 PM EDT. New York is currently observing Eastern Daylight Time (EDT), which is UTC-4.'}], 'role': 'model'}, 'grounding_metadata': {'grounding_chunks': [{'web': {'domain': 'time.is', 'title': 'time.is', 'uri': 'https://vertexaisearch.cloud.google.com/grounding-api-redirect/AWQVqALN0KC5egk9VIi8uheBvkrtjVG7rJzVnrS-vb7W3LuUGWxG06QElT2jirYMbZhH_Yv-0s9SCwguyMUJJC8tOl-5BR8gQYYlvdwbEzgyminetvJcIA=='}}, {'web': {'domain': 'worldtimebuddy.com', 'title': 'worldtimebuddy.com', 'uri': 'https://vertexaisearch.cloud.google.com/grounding-api-redirect/AWQVqAIdKiznfc_KzFRdyuMjlMpQbpmmG3ajR4TxaI6kMcrlno6ZBPsESHDrSg60rzNi4ZFkWJFxL2Z1iAfpWMFPs1ywd7beAsMFxppl1SWJmfWPaCBEa0HNGhC5Oeo4xKAq0pe1Rdw3TsFnyJDXup5AXHVVLK3mRu68KRr7'}}], 'grounding_supports': [{'confidence_scores': [0.9836141, 0.7171652], 'grounding_chunk_indices': [0, 1], 'segment': {'end_index': 178, 'start_index': 102, 'text': 'New York is currently observing Eastern Daylight Time (EDT), which is UTC-4.'}}], 'retrieval_metadata': {}, 'search_entry_point': {'rendered_content': '<style>\\n.container {\\n  align-items: center;\\n  border-radius: 8px;\\n  display: flex;\\n  font-family: Google Sans, Roboto, sans-serif;\\n  font-size: 14px;\\n  line-height: 20px;\\n  padding: 8px 12px;\\n}\\n.chip {\\n  display: inline-block;\\n  border: solid 1px;\\n  border-radius: 16px;\\n  min-width: 14px;\\n  padding: 5px 16px;\\n  text-align: center;\\n  user-select: none;\\n  margin: 0 8px;\\n  -webkit-tap-highlight-color: transparent;\\n}\\n.carousel {\\n  overflow: auto;\\n  scrollbar-width: none;\\n  white-space: nowrap;\\n  margin-right: -12px;\\n}\\n.headline {\\n  display: flex;\\n  margin-right: 4px;\\n}\\n.gradient-container {\\n  position: relative;\\n}\\n.gradient {\\n  position: absolute;\\n  transform: translate(3px, -9px);\\n  height: 36px;\\n  width: 9px;\\n}\\n@media (prefers-color-scheme: light) {\\n  .container {\\n    background-color: #fafafa;\\n    box-shadow: 0 0 0 1px #0000000f;\\n  }\\n  .headline-label {\\n    color: #1f1f1f;\\n  }\\n  .chip {\\n    background-color: #ffffff;\\n    border-color: #d2d2d2;\\n    color: #5e5e5e;\\n    text-decoration: none;\\n  }\\n  .chip:hover {\\n    background-color: #f2f2f2;\\n  }\\n  .chip:focus {\\n    background-color: #f2f2f2;\\n  }\\n  .chip:active {\\n    background-color: #d8d8d8;\\n    border-color: #b6b6b6;\\n  }\\n  .logo-dark {\\n    display: none;\\n  }\\n  .gradient {\\n    background: linear-gradient(90deg, #fafafa 15%, #fafafa00 100%);\\n  }\\n}\\n@media (prefers-color-scheme: dark) {\\n  .container {\\n    background-color: #1f1f1f;\\n    box-shadow: 0 0 0 1px #ffffff26;\\n  }\\n  .headline-label {\\n    color: #fff;\\n  }\\n  .chip {\\n    background-color: #2c2c2c;\\n    border-color: #3c4043;\\n    color: #fff;\\n    text-decoration: none;\\n  }\\n  .chip:hover {\\n    background-color: #353536;\\n  }\\n  .chip:focus {\\n    background-color: #353536;\\n  }\\n  .chip:active {\\n    background-color: #464849;\\n    border-color: #53575b;\\n  }\\n  .logo-light {\\n    display: none;\\n  }\\n  .gradient {\\n    background: linear-gradient(90deg, #1f1f1f 15%, #1f1f1f00 100%);\\n  }\\n}\\n</style>\\n<div class=\"container\">\\n  <div class=\"headline\">\\n    <svg class=\"logo-light\" width=\"18\" height=\"18\" viewBox=\"9 9 35 35\" fill=\"none\" xmlns=\"http://www.w3.org/2000/svg\">\\n      <path fill-rule=\"evenodd\" clip-rule=\"evenodd\" d=\"M42.8622 27.0064C42.8622 25.7839 42.7525 24.6084 42.5487 23.4799H26.3109V30.1568H35.5897C35.1821 32.3041 33.9596 34.1222 32.1258 35.3448V39.6864H37.7213C40.9814 36.677 42.8622 32.2571 42.8622 27.0064V27.0064Z\" fill=\"#4285F4\"/>\\n      <path fill-rule=\"evenodd\" clip-rule=\"evenodd\" d=\"M26.3109 43.8555C30.9659 43.8555 34.8687 42.3195 37.7213 39.6863L32.1258 35.3447C30.5898 36.3792 28.6306 37.0061 26.3109 37.0061C21.8282 37.0061 18.0195 33.9811 16.6559 29.906H10.9194V34.3573C13.7563 39.9841 19.5712 43.8555 26.3109 43.8555V43.8555Z\" fill=\"#34A853\"/>\\n      <path fill-rule=\"evenodd\" clip-rule=\"evenodd\" d=\"M16.6559 29.8904C16.3111 28.8559 16.1074 27.7588 16.1074 26.6146C16.1074 25.4704 16.3111 24.3733 16.6559 23.3388V18.8875H10.9194C9.74388 21.2072 9.06992 23.8247 9.06992 26.6146C9.06992 29.4045 9.74388 32.022 10.9194 34.3417L15.3864 30.8621L16.6559 29.8904V29.8904Z\" fill=\"#FBBC05\"/>\\n      <path fill-rule=\"evenodd\" clip-rule=\"evenodd\" d=\"M26.3109 16.2386C28.85 16.2386 31.107 17.1164 32.9095 18.8091L37.8466 13.8719C34.853 11.082 30.9659 9.3736 26.3109 9.3736C19.5712 9.3736 13.7563 13.245 10.9194 18.8875L16.6559 23.3388C18.0195 19.2636 21.8282 16.2386 26.3109 16.2386V16.2386Z\" fill=\"#EA4335\"/>\\n    </svg>\\n    <svg class=\"logo-dark\" width=\"18\" height=\"18\" viewBox=\"0 0 48 48\" xmlns=\"http://www.w3.org/2000/svg\">\\n      <circle cx=\"24\" cy=\"23\" fill=\"#FFF\" r=\"22\"/>\\n      <path d=\"M33.76 34.26c2.75-2.56 4.49-6.37 4.49-11.26 0-.89-.08-1.84-.29-3H24.01v5.99h8.03c-.4 2.02-1.5 3.56-3.07 4.56v.75l3.91 2.97h.88z\" fill=\"#4285F4\"/>\\n      <path d=\"M15.58 25.77A8.845 8.845 0 0 0 24 31.86c1.92 0 3.62-.46 4.97-1.31l4.79 3.71C31.14 36.7 27.65 38 24 38c-5.93 0-11.01-3.4-13.45-8.36l.17-1.01 4.06-2.85h.8z\" fill=\"#34A853\"/>\\n      <path d=\"M15.59 20.21a8.864 8.864 0 0 0 0 5.58l-5.03 3.86c-.98-2-1.53-4.25-1.53-6.64 0-2.39.55-4.64 1.53-6.64l1-.22 3.81 2.98.22 1.08z\" fill=\"#FBBC05\"/>\\n      <path d=\"M24 14.14c2.11 0 4.02.75 5.52 1.98l4.36-4.36C31.22 9.43 27.81 8 24 8c-5.93 0-11.01 3.4-13.45 8.36l5.03 3.85A8.86 8.86 0 0 1 24 14.14z\" fill=\"#EA4335\"/>\\n    </svg>\\n    <div class=\"gradient-container\"><div class=\"gradient\"></div></div>\\n  </div>\\n  <div class=\"carousel\">\\n    <a class=\"chip\" href=\"https://vertexaisearch.cloud.google.com/grounding-api-redirect/AWQVqAJ3oARTR6ZrvWikgDZMRuZXElQpCtYeU6DsaC18L7IW7RIZlNPf86vx3Z5FiULkl2wPc_fukMPvDRflPn52ZFPk5-FxFSdsPfdQSFk3fYWIDa90TB6rqm1YS0sNgIJMk_X5RsVIYpSOWuxanhxOkdpgskol6XKO0pztnO5TqBwjMSXZxo0-ht7FQhBUyGreWDLcTz_Uxs8hzcFY6A==\">current time in New York</a>\\n  </div>\\n</div>\\n'}, 'web_search_queries': ['current time in New York']}, 'invocation_id': 'e-2a9001be-eeba-4f3a-9dde-82b7f9a3cfef', 'author': 'basic_search_agent', 'actions': {'state_delta': {'google_search': 'As of Tuesday, April 29, 2025 at 10:10:07 PM UTC, the time in New York, New York, USA is 6:10 PM EDT. New York is currently observing Eastern Daylight Time (EDT), which is UTC-4.'}, 'artifact_delta': {}, 'requested_auth_configs': {}}, 'id': 'Li1XZxGf', 'timestamp': 1745964607.450423}\n"
          ]
        }
      ],
      "source": [
        "# Send a query to the deployed agent using the remote session\n",
        "for event in remote_app.stream_query(\n",
        "    user_id=\"remote_user_001\",  # Replace with the same user ID used earlier\n",
        "    session_id=remote_session[\"id\"],  # Use the session ID from the created remote session\n",
        "    message=\"What is the time in New York?\",  # Replace with your desired query\n",
        "):\n",
        "    print(event)  # Print each event received from the agent's response"
      ]
    },
    {
      "cell_type": "markdown",
      "metadata": {
        "id": "fAhJxPqEcrR5"
      },
      "source": [
        "# Retrieve an Existing Deployed Agent\n",
        "Use `agent_engines.get()` with the full resource name of a previously deployed Agent Engine to get a reference to it."
      ]
    },
    {
      "cell_type": "code",
      "execution_count": 16,
      "metadata": {
        "id": "roXZEZLqcrR5",
        "colab": {
          "base_uri": "https://localhost:8080/"
        },
        "outputId": "5144d884-2148-4ffa-811e-07768f894db0"
      },
      "outputs": [
        {
          "output_type": "stream",
          "name": "stdout",
          "text": [
            "Successfully retrieved agent: projects/1022232769267/locations/us-central1/reasoningEngines/1239694962270928896\n",
            "Created session for retrieved agent:\n",
            "{'events': [], 'user_id': 'retrieved_user_001', 'state': {}, 'id': '8663004286491295744', 'app_name': '1239694962270928896', 'last_update_time': 1745964764.282948}\n",
            "\n",
            "Querying the retrieved agent:\n",
            "{'content': {'parts': [{'text': 'The current time in Paris, France is 12:12 AM on Tuesday, April 29, 2025. Paris is in the Central European Summer Time (CEST) zone, which is UTC+2. Daylight Saving Time is currently observed and will end on October 26, 2025, when the time will move back by one hour to Central European Time (CET), UTC+1.'}], 'role': 'model'}, 'grounding_metadata': {'grounding_chunks': [{'web': {'domain': 'clocks.world', 'title': 'clocks.world', 'uri': 'https://vertexaisearch.cloud.google.com/grounding-api-redirect/AWQVqALFY_ThEAUlUWLJwoq9U9HvEzvGGr6KNevq3x1hzx1BEksKERI9tADoGWmoFzKtW5W8ENhhdpF2FBfMcPbQr95nx2uu-_VG9m5v2hSsZW7FoB1Tg9BrOL4BA5GCSCYtJvuIuQ=='}}, {'web': {'domain': 'logwork.com', 'title': 'logwork.com', 'uri': 'https://vertexaisearch.cloud.google.com/grounding-api-redirect/AWQVqAJwXd4hvfc4TBeAtlwedSast9k67EF2f4NJIf-4qw9HG45wfh_WJqyrtb0j4hUztNXKmS7MJQBDPRaJpUC4fxCa3bQmu9TuekuhoKOa_FjlY16FZZkk4O3IMv7qZBIrz4Au1CwpzbRi_nzsYMVppjyNAg2-ZE3Jr_tQ'}}, {'web': {'domain': 'timeanddate.com', 'title': 'timeanddate.com', 'uri': 'https://vertexaisearch.cloud.google.com/grounding-api-redirect/AWQVqALx3f67JNSDXaYmBvs7zPUoCRB4ys8vfLTcRmwsOkTAlWsxbhvWSgf-NxoByUepGng5x2aP3J92siDoltyuhOaa-Uat65qagxuGpY93KG7gcREMRW22WSMaS0NIWGlELQhWVq-3uLT26Q=='}}, {'web': {'domain': 'time.is', 'title': 'time.is', 'uri': 'https://vertexaisearch.cloud.google.com/grounding-api-redirect/AWQVqAIuKNA0HWCEZ0M0MLh-Sx9826rI7zy6QuFhaWbuVATaavu9I68Ct259rmA2nyQlD5l1u5IFeEdsi5oSH105udbbn8xx_AJT_hJ0xXBCh-VZSA=='}}], 'grounding_supports': [{'confidence_scores': [0.8325783, 0.6268329, 0.6767035, 0.8084652], 'grounding_chunk_indices': [0, 1, 2, 3], 'segment': {'end_index': 147, 'start_index': 74, 'text': 'Paris is in the Central European Summer Time (CEST) zone, which is UTC+2.'}}], 'retrieval_metadata': {}, 'search_entry_point': {'rendered_content': '<style>\\n.container {\\n  align-items: center;\\n  border-radius: 8px;\\n  display: flex;\\n  font-family: Google Sans, Roboto, sans-serif;\\n  font-size: 14px;\\n  line-height: 20px;\\n  padding: 8px 12px;\\n}\\n.chip {\\n  display: inline-block;\\n  border: solid 1px;\\n  border-radius: 16px;\\n  min-width: 14px;\\n  padding: 5px 16px;\\n  text-align: center;\\n  user-select: none;\\n  margin: 0 8px;\\n  -webkit-tap-highlight-color: transparent;\\n}\\n.carousel {\\n  overflow: auto;\\n  scrollbar-width: none;\\n  white-space: nowrap;\\n  margin-right: -12px;\\n}\\n.headline {\\n  display: flex;\\n  margin-right: 4px;\\n}\\n.gradient-container {\\n  position: relative;\\n}\\n.gradient {\\n  position: absolute;\\n  transform: translate(3px, -9px);\\n  height: 36px;\\n  width: 9px;\\n}\\n@media (prefers-color-scheme: light) {\\n  .container {\\n    background-color: #fafafa;\\n    box-shadow: 0 0 0 1px #0000000f;\\n  }\\n  .headline-label {\\n    color: #1f1f1f;\\n  }\\n  .chip {\\n    background-color: #ffffff;\\n    border-color: #d2d2d2;\\n    color: #5e5e5e;\\n    text-decoration: none;\\n  }\\n  .chip:hover {\\n    background-color: #f2f2f2;\\n  }\\n  .chip:focus {\\n    background-color: #f2f2f2;\\n  }\\n  .chip:active {\\n    background-color: #d8d8d8;\\n    border-color: #b6b6b6;\\n  }\\n  .logo-dark {\\n    display: none;\\n  }\\n  .gradient {\\n    background: linear-gradient(90deg, #fafafa 15%, #fafafa00 100%);\\n  }\\n}\\n@media (prefers-color-scheme: dark) {\\n  .container {\\n    background-color: #1f1f1f;\\n    box-shadow: 0 0 0 1px #ffffff26;\\n  }\\n  .headline-label {\\n    color: #fff;\\n  }\\n  .chip {\\n    background-color: #2c2c2c;\\n    border-color: #3c4043;\\n    color: #fff;\\n    text-decoration: none;\\n  }\\n  .chip:hover {\\n    background-color: #353536;\\n  }\\n  .chip:focus {\\n    background-color: #353536;\\n  }\\n  .chip:active {\\n    background-color: #464849;\\n    border-color: #53575b;\\n  }\\n  .logo-light {\\n    display: none;\\n  }\\n  .gradient {\\n    background: linear-gradient(90deg, #1f1f1f 15%, #1f1f1f00 100%);\\n  }\\n}\\n</style>\\n<div class=\"container\">\\n  <div class=\"headline\">\\n    <svg class=\"logo-light\" width=\"18\" height=\"18\" viewBox=\"9 9 35 35\" fill=\"none\" xmlns=\"http://www.w3.org/2000/svg\">\\n      <path fill-rule=\"evenodd\" clip-rule=\"evenodd\" d=\"M42.8622 27.0064C42.8622 25.7839 42.7525 24.6084 42.5487 23.4799H26.3109V30.1568H35.5897C35.1821 32.3041 33.9596 34.1222 32.1258 35.3448V39.6864H37.7213C40.9814 36.677 42.8622 32.2571 42.8622 27.0064V27.0064Z\" fill=\"#4285F4\"/>\\n      <path fill-rule=\"evenodd\" clip-rule=\"evenodd\" d=\"M26.3109 43.8555C30.9659 43.8555 34.8687 42.3195 37.7213 39.6863L32.1258 35.3447C30.5898 36.3792 28.6306 37.0061 26.3109 37.0061C21.8282 37.0061 18.0195 33.9811 16.6559 29.906H10.9194V34.3573C13.7563 39.9841 19.5712 43.8555 26.3109 43.8555V43.8555Z\" fill=\"#34A853\"/>\\n      <path fill-rule=\"evenodd\" clip-rule=\"evenodd\" d=\"M16.6559 29.8904C16.3111 28.8559 16.1074 27.7588 16.1074 26.6146C16.1074 25.4704 16.3111 24.3733 16.6559 23.3388V18.8875H10.9194C9.74388 21.2072 9.06992 23.8247 9.06992 26.6146C9.06992 29.4045 9.74388 32.022 10.9194 34.3417L15.3864 30.8621L16.6559 29.8904V29.8904Z\" fill=\"#FBBC05\"/>\\n      <path fill-rule=\"evenodd\" clip-rule=\"evenodd\" d=\"M26.3109 16.2386C28.85 16.2386 31.107 17.1164 32.9095 18.8091L37.8466 13.8719C34.853 11.082 30.9659 9.3736 26.3109 9.3736C19.5712 9.3736 13.7563 13.245 10.9194 18.8875L16.6559 23.3388C18.0195 19.2636 21.8282 16.2386 26.3109 16.2386V16.2386Z\" fill=\"#EA4335\"/>\\n    </svg>\\n    <svg class=\"logo-dark\" width=\"18\" height=\"18\" viewBox=\"0 0 48 48\" xmlns=\"http://www.w3.org/2000/svg\">\\n      <circle cx=\"24\" cy=\"23\" fill=\"#FFF\" r=\"22\"/>\\n      <path d=\"M33.76 34.26c2.75-2.56 4.49-6.37 4.49-11.26 0-.89-.08-1.84-.29-3H24.01v5.99h8.03c-.4 2.02-1.5 3.56-3.07 4.56v.75l3.91 2.97h.88z\" fill=\"#4285F4\"/>\\n      <path d=\"M15.58 25.77A8.845 8.845 0 0 0 24 31.86c1.92 0 3.62-.46 4.97-1.31l4.79 3.71C31.14 36.7 27.65 38 24 38c-5.93 0-11.01-3.4-13.45-8.36l.17-1.01 4.06-2.85h.8z\" fill=\"#34A853\"/>\\n      <path d=\"M15.59 20.21a8.864 8.864 0 0 0 0 5.58l-5.03 3.86c-.98-2-1.53-4.25-1.53-6.64 0-2.39.55-4.64 1.53-6.64l1-.22 3.81 2.98.22 1.08z\" fill=\"#FBBC05\"/>\\n      <path d=\"M24 14.14c2.11 0 4.02.75 5.52 1.98l4.36-4.36C31.22 9.43 27.81 8 24 8c-5.93 0-11.01 3.4-13.45 8.36l5.03 3.85A8.86 8.86 0 0 1 24 14.14z\" fill=\"#EA4335\"/>\\n    </svg>\\n    <div class=\"gradient-container\"><div class=\"gradient\"></div></div>\\n  </div>\\n  <div class=\"carousel\">\\n    <a class=\"chip\" href=\"https://vertexaisearch.cloud.google.com/grounding-api-redirect/AWQVqAJbdBYf5Z1bUAEGewgSIh3EpWcox-Bdj-RDcW6lXOPY8OzFgYz5MlQMrADyAdnCYyPZhQ3T3GVDq2XwuNbRrAW7oo41fcBjyFcwBaUnc-0fxDEpcYHRgKpGLhDfehjfXlxRQRLLWVpXqiQ9H3ok7ynfq9WZGoiFQZC_hgOYNtazRNIoyweMd25JO2Iu36dyZrvO0e74VUNNHg==\">current time in Paris</a>\\n  </div>\\n</div>\\n'}, 'web_search_queries': ['current time in Paris']}, 'invocation_id': 'e-ab92228d-a33a-4deb-82a9-6160c0a78485', 'author': 'basic_search_agent', 'actions': {'state_delta': {'google_search': 'The current time in Paris, France is 12:12 AM on Tuesday, April 29, 2025. Paris is in the Central European Summer Time (CEST) zone, which is UTC+2. Daylight Saving Time is currently observed and will end on October 26, 2025, when the time will move back by one hour to Central European Time (CET), UTC+1.'}, 'artifact_delta': {}, 'requested_auth_configs': {}}, 'id': 'Yb9PBJNP', 'timestamp': 1745964765.192201}\n"
          ]
        }
      ],
      "source": [
        "# Retrieve an Existing Deployed Agent\n",
        "\n",
        "# Replace with the resource name of your deployed agent\n",
        "AGENT_RESOURCE_NAME = \"projects/1022232769267/locations/us-central1/reasoningEngines/1239694962270928896\"  # Replace with your actual resource name\n",
        "\n",
        "try:\n",
        "    # Retrieve the deployed agent using its resource name\n",
        "    retrieved_agent = agent_engines.get(AGENT_RESOURCE_NAME)\n",
        "    print(f\"Successfully retrieved agent: {AGENT_RESOURCE_NAME}\")\n",
        "except Exception as e:\n",
        "    print(f\"Error retrieving agent: {e}\")\n",
        "    retrieved_agent = None\n",
        "\n",
        "# Interact with the retrieved agent if successfully retrieved\n",
        "if retrieved_agent:\n",
        "    try:\n",
        "        # Create a session for the retrieved agent\n",
        "        retrieved_session = retrieved_agent.create_session(user_id=\"retrieved_user_001\")  # Replace with your desired user ID\n",
        "        print(\"Created session for retrieved agent:\")\n",
        "        print(retrieved_session)\n",
        "\n",
        "        # Send a query to the retrieved agent\n",
        "        print(\"\\nQuerying the retrieved agent:\")\n",
        "        for event in retrieved_agent.stream_query(\n",
        "            user_id=\"retrieved_user_001\",  # Replace with the same user ID used earlier\n",
        "            session_id=retrieved_session[\"id\"],  # Use the session ID from the created session\n",
        "            message=\"What is the time in paris\",  # Replace with your desired query\n",
        "        ):\n",
        "            print(event)  # Print each event received from the agent's response\n",
        "    except Exception as e:\n",
        "        print(f\"Error interacting with the retrieved agent: {e}\")\n",
        "else:\n",
        "    print(\"Skipping interaction as the agent was not retrieved.\")"
      ]
    },
    {
      "cell_type": "markdown",
      "metadata": {
        "id": "zX2nuoLicrR6"
      },
      "source": [
        "# Clean Up Deployed Agent Engine\n",
        "Use the `remote_app.delete(force=True)` method to delete the Agent Engine instance created during the tutorial to avoid incurring costs."
      ]
    },
    {
      "cell_type": "code",
      "execution_count": 17,
      "metadata": {
        "id": "-eq-XJqdcrR6",
        "colab": {
          "base_uri": "https://localhost:8080/"
        },
        "outputId": "d296dcd2-bc81-439e-a2f5-c448c3206d13"
      },
      "outputs": [
        {
          "output_type": "stream",
          "name": "stdout",
          "text": [
            "Deleting the deployed Agent Engine: projects/1022232769267/locations/us-central1/reasoningEngines/1239694962270928896\n"
          ]
        },
        {
          "output_type": "stream",
          "name": "stderr",
          "text": [
            "INFO:vertexai.agent_engines:Delete Agent Engine backing LRO: projects/1022232769267/locations/us-central1/operations/5439136241373151232\n",
            "INFO:vertexai.agent_engines:Agent Engine deleted. Resource name: projects/1022232769267/locations/us-central1/reasoningEngines/1239694962270928896\n"
          ]
        },
        {
          "output_type": "stream",
          "name": "stdout",
          "text": [
            "Agent Engine deleted successfully.\n"
          ]
        }
      ],
      "source": [
        "# Clean up the deployed Agent Engine to avoid incurring costs\n",
        "try:\n",
        "    print(f\"Deleting the deployed Agent Engine: {remote_app.resource_name}\")\n",
        "    remote_app.delete(force=True)  # Delete the Agent Engine and associated resources\n",
        "    print(\"Agent Engine deleted successfully.\")\n",
        "except Exception as e:\n",
        "    print(f\"Error deleting the Agent Engine: {e}\")"
      ]
    },
    {
      "cell_type": "code",
      "source": [],
      "metadata": {
        "id": "Ssxd0uPTnQpz"
      },
      "execution_count": null,
      "outputs": []
    }
  ],
  "metadata": {
    "language_info": {
      "name": "python"
    },
    "colab": {
      "provenance": [],
      "toc_visible": true
    },
    "kernelspec": {
      "name": "python3",
      "display_name": "Python 3"
    }
  },
  "nbformat": 4,
  "nbformat_minor": 0
}